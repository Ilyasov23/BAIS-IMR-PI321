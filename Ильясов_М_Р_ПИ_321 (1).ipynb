{
  "nbformat": 4,
  "nbformat_minor": 0,
  "metadata": {
    "colab": {
      "name": "Ильясов М.Р. ПИ-321.ipynb",
      "provenance": []
    },
    "kernelspec": {
      "name": "python3",
      "display_name": "Python 3"
    },
    "language_info": {
      "name": "python"
    }
  },
  "cells": [
    {
      "cell_type": "markdown",
      "source": [
        "#Геческий алфавит средством Markdown\n"
      ],
      "metadata": {
        "id": "0CVMILaX8qAH"
      }
    },
    {
      "cell_type": "markdown",
      "source": [
        "|№| Заглавная | Строчная | Название  |\n",
        "|-|-----------|----------|-----------|\n",
        "|1|   Α   |  α       | альфа     |\n",
        "|2|   Β   |  β       | бета      |\n",
        "|3|   Γ   |  γ       | гамма     |\n",
        "|4|   Δ   |  δ       | дельта    |\n",
        "|5|   Ε   |  ϵ       | эпсилон   |\n",
        "|6|   Ζ   |  ζ       | дзета     |\n",
        "|7|   Η   |  η       | эта       |\n",
        "|8|   Θ   |  θ       | тета      |\n",
        "|9|   Ι   |  ι       | йота      |\n",
        "|10|   Κ  |  κ       | каппа     |\n",
        "|11|   Λ  |  λ       | лямбда    |\n",
        "|12|   Μ  |  μ       | мю        |\n",
        "|13|   Ν  |  ν       | ню        |\n",
        "|14|   Ξ  |  ξ       | кси       |\n",
        "|15|   Ο  |  ο       | омикрон   |\n",
        "|16|   Π  |  π       | пи        |\n",
        "|17|   Ρ  |  ρ       | ро        |\n",
        "|18|   Σ  |  σ       | сигма     |\n",
        "|19|   Τ  |  τ       | тау       |\n",
        "|20|   Υ  |  υ       | ипсилон   |\n",
        "|21|   Φ  |  ϕ       | фи        |\n",
        "|22|   Χ  |  χ       | хи        |\n",
        "|23|   Ψ  |  ψ       | пси       |\n",
        "|24|   Ω  |  ω       | омег      |"
      ],
      "metadata": {
        "id": "s7m-j2hi-jSQ"
      }
    },
    {
      "cell_type": "markdown",
      "source": [
        "#Геческий алфавит средством Tex\n"
      ],
      "metadata": {
        "id": "LmQavNXa-4-8"
      }
    },
    {
      "cell_type": "markdown",
      "source": [
        "\n",
        "\\begin{array}{ccc}\n",
        "\\text{№}&\\text{Заглавная}&\\text{Строчная}&\\text{Название}\\\\\n",
        "\\text{1}&\\text{Α}&\\alpha&\\text{альфа}\\\\\n",
        "\\text{2}&\\text{Β}&\\beta&\\text{бета}\\\\\n",
        "\\text{3}&\\Gamma&\\gamma&\\text{гамма}\\\\\n",
        "\\text{4}&\\Delta&\\delta&\\text{дельта}\\\\\n",
        "\\text{5}&\\text{Ε}&\\epsilon&\\text{эпсилон}\\\\\n",
        "\\text{6}&\\text{Ζ}&\\zeta&\\text{дзета}\\\\\n",
        "\\text{7}&\\text{Η}&\\eta&\\text{эта}\\\\\n",
        "\\text{8}&\\Theta&\\theta&\\text{тета}\\\\\n",
        "\\text{9}&\\text{Ι}&\\iota&\\text{йота}\\\\\n",
        "\\text{10}&\\text{Κ}&\\kappa&\\text{каппа}\\\\\n",
        "\\text{11}&\\Lambda&\\lambda&\\text{лямбда}\\\\\n",
        "\\text{12}&\\text{Μ}&\\mu&\\text{мю}\\\\\n",
        "\\text{13}&\\text{Ν}&\\nu&\\text{ню}\\\\\n",
        "\\text{14}&\\Xi&\\xi&\\text{кси}\\\\\n",
        "\\text{15}&\\text{Ο}&\\text{ο}&\\text{омикрон}\\\\\n",
        "\\text{16}&\\Pi&\\pi&\\text{пи}\\\\\n",
        "\\text{17}&\\text{Ρ}&\\rho&\\text{ро}\\\\\n",
        "\\text{18}&\\Sigma&\\sigma&\\text{сигма}\\\\\n",
        "\\text{19}&\\text{Τ}&\\tau&\\text{тау}\\\\\n",
        "\\text{20}&\\Upsilon&\\upsilon&\\text{ипсилон}\\\\\n",
        "\\text{21}&\\Phi&\\phi&\\text{фи}\\\\\n",
        "\\text{22}&\\text{Χ}&\\chi&\\text{хи}\\\\\n",
        "\\text{23}&\\Psi&\\psi&\\text{пси}\\\\\n",
        "\\text{24}&\\Omega&\\omega&\\text{омега}\\\\\n",
        "\\end{array}\n",
        "\n"
      ],
      "metadata": {
        "id": "mLZb7b2-_B1v"
      }
    },
    {
      "cell_type": "markdown",
      "source": [
        "Формула в отдельной строке $${\\displaystyle f(x)={\\frac {1}{\\sigma {\\sqrt {2\\pi }}}}e {-{\\frac {1}{2}} \\left({\\frac {x-\\mu }{\\sigma }}\\right) {2}}}$$\n",
        "\n",
        "\n",
        "Формула в тексте: ${\\displaystyle f(x)={\\frac {1}{\\sigma {\\sqrt {2\\pi }}}}e {-{\\frac {1}{2}}\\left({\\frac {x-\\mu }{\\sigma }}\\right) {2}}}$"
      ],
      "metadata": {
        "id": "u_6_Y2wQNtcF"
      }
    },
    {
      "cell_type": "code",
      "source": [
        ""
      ],
      "metadata": {
        "id": "TODcOIRoNv2T"
      },
      "execution_count": null,
      "outputs": []
    }
  ]
}